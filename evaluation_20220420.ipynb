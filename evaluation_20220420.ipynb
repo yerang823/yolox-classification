{
 "cells": [
  {
   "cell_type": "code",
   "execution_count": 43,
   "id": "9ef60069",
   "metadata": {},
   "outputs": [],
   "source": [
    "import numpy as np\n",
    "import cv2\n",
    "import matplotlib.pyplot as plt"
   ]
  },
  {
   "cell_type": "code",
   "execution_count": 111,
   "id": "53ded91b",
   "metadata": {},
   "outputs": [],
   "source": [
    "## Load annotations of GT, Pred\n",
    "\n",
    "# predict\n",
    "path='./YOLOX_outputs/yolox_x_discolor/vis_res/2022_04_15_01_47_29/result.txt'\n",
    "with open(path,'r') as f:\n",
    "    pred=f.readlines()\n",
    "# GT \n",
    "path2='./datasets/Discolor/test.txt'\n",
    "with open(path2, 'r') as f:\n",
    "    gt=f.readlines()\n",
    "\n",
    "pred.sort()\n",
    "gt.sort()"
   ]
  },
  {
   "cell_type": "code",
   "execution_count": 114,
   "id": "675e3621",
   "metadata": {},
   "outputs": [
    {
     "data": {
      "text/plain": [
       "['2852585.jpg,0.0,0.40549147,199.39848,507.3309,685.2651,844.0219\\n',\n",
       " '2852585.jpg,506,517,630,596\\n',\n",
       " '2852914.jpg,0.0,0.699502,561.7157,461.25043,793.61475,614.1202\\n',\n",
       " '2852914.jpg,581,481,647,523\\n',\n",
       " '2852914.jpg,634,522,765,577\\n']"
      ]
     },
     "execution_count": 114,
     "metadata": {},
     "output_type": "execute_result"
    }
   ],
   "source": [
    "pred_new=[]\n",
    "for i in range(len(pred)):\n",
    "    pred_new.append(pred[i].split('/')[-1])\n",
    "    \n",
    "pred_gt_li = pred_new + gt\n",
    "pred_gt_li.sort()\n",
    "pred_gt_li[:5]"
   ]
  },
  {
   "cell_type": "code",
   "execution_count": 115,
   "id": "9adef8c9",
   "metadata": {},
   "outputs": [
    {
     "name": "stdout",
     "output_type": "stream",
     "text": [
      "len(tot_dsc)= 92\n",
      "avg DSC =  0.6123851358746043\n",
      "avg TP =  58210.141304347824\n",
      "avg FP =  49906.92391304348\n",
      "avg FN =  23181.75\n"
     ]
    }
   ],
   "source": [
    "root = './datasets/Discolor/val2017/'\n",
    "tot_dsc = []\n",
    "tot_tp = []\n",
    "tot_fp = []\n",
    "tot_fn = []\n",
    "for i in range(len(pred_gt_li)):\n",
    "    \n",
    "    if i==0:\n",
    "        # 그냥 이미지 읽어\n",
    "        img = cv2.imread(root + pred_gt_li[i].split(',')[0])\n",
    "        empty = np.zeros((img.shape[0],img.shape[1]))\n",
    "    \n",
    "    else:\n",
    "        if pred_gt_li[i].split(',')[0] != pred_gt_li[i-1].split(',')[0]: # 새로운 이미지 네임, 이전거랑 지금거랑 이름 다르면\n",
    "            #print(pred_gt_li[i-1].split(',')[0])\n",
    "            #print(np.unique(empty))\n",
    "            #plt.imshow(empty,cmap='gray')\n",
    "            #plt.show()\n",
    "            \n",
    "            if len(np.unique(empty)) != 2: # pred 아예 없는경우 제외하려고\n",
    "                fn = len(empty[empty==1])\n",
    "                fp = len(empty[empty==2])\n",
    "                tp = len(empty[empty==3]) + len(empty[empty==4]) +len(empty[empty==5])\n",
    "                DSC = 2*tp / (2*tp+fp+fn)\n",
    "                tot_dsc.append(DSC)\n",
    "                tot_tp.append(tp)\n",
    "                tot_fp.append(fp)\n",
    "                tot_fn.append(fn)\n",
    "            \n",
    "            img = cv2.imread(root + pred_gt_li[i].split(',')[0])\n",
    "            empty = np.zeros((img.shape[0],img.shape[1]))\n",
    "            \n",
    "    \n",
    "    \n",
    "    if pred_gt_li[i].split(',')[1]=='0.0': # pred\n",
    "        value = 2\n",
    "        x1=int(float(pred_gt_li[i].split(',')[3]))\n",
    "        y1=int(float(pred_gt_li[i].split(',')[4]))\n",
    "        x2=int(float(pred_gt_li[i].split(',')[5]))\n",
    "        y2=int(float(pred_gt_li[i].split(',')[6]))\n",
    "    else: # gt\n",
    "        value = 1\n",
    "        x1=int(float(pred_gt_li[i].split(',')[1]))\n",
    "        y1=int(float(pred_gt_li[i].split(',')[2]))\n",
    "        x2=int(float(pred_gt_li[i].split(',')[3]))\n",
    "        y2=int(float(pred_gt_li[i].split(',')[4]))\n",
    "        \n",
    "    empty[y1:y2, x1:x2] += value\n",
    "    \n",
    "    if i==len(pred_gt_li)-1:\n",
    "        if len(np.unique(empty)) != 2: # pred 아예 없는경우 제외하려고\n",
    "            fn = len(empty[empty==1])\n",
    "            fp = len(empty[empty==2])\n",
    "            tp = len(empty[empty==3]) + len(empty[empty==4]) +len(empty[empty==5])\n",
    "            DSC = 2*tp / (2*tp+fp+fn)\n",
    "            tot_dsc.append(DSC)\n",
    "            tot_tp.append(tp)\n",
    "            tot_fp.append(fp)\n",
    "            tot_fn.append(fn)\n",
    "            \n",
    "            \n",
    "print('len(tot_dsc)=',len(tot_dsc))\n",
    "print('avg DSC = ', sum(tot_dsc)/len(tot_dsc))\n",
    "print('avg TP = ', sum(tot_tp)/len(tot_tp))\n",
    "print('avg FP = ', sum(tot_fp)/len(tot_fp))\n",
    "print('avg FN = ', sum(tot_fn)/len(tot_fn))"
   ]
  }
 ],
 "metadata": {
  "kernelspec": {
   "display_name": "Python 3 (ipykernel)",
   "language": "python",
   "name": "python3"
  },
  "language_info": {
   "codemirror_mode": {
    "name": "ipython",
    "version": 3
   },
   "file_extension": ".py",
   "mimetype": "text/x-python",
   "name": "python",
   "nbconvert_exporter": "python",
   "pygments_lexer": "ipython3",
   "version": "3.8.8"
  }
 },
 "nbformat": 4,
 "nbformat_minor": 5
}
